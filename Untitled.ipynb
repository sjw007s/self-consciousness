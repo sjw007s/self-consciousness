{
 "cells": [
  {
   "cell_type": "code",
   "execution_count": null,
   "id": "c9ba38f0",
   "metadata": {},
   "outputs": [],
   "source": [
    "import csv\n",
    "r=open ('data/test.csv', 'r' ,encoding='UTF8')\n",
    "rdr=csv.reader(r)\n",
    "for target in rdr:\n",
    "    print(target)\n",
    "    print(\"w\")"
   ]
  },
  {
   "cell_type": "code",
   "execution_count": 12,
   "id": "022f0968",
   "metadata": {},
   "outputs": [
    {
     "name": "stdout",
     "output_type": "stream",
     "text": [
      "LSTM(10, 20, num_layers=2) torch.Size([5, 3, 10]) torch.Size([5, 3, 10]) torch.Size([5, 3, 20]) torch.Size([2, 3, 20]) torch.Size([2, 3, 20])\n"
     ]
    }
   ],
   "source": [
    "import torch\n",
    "from torch import nn\n",
    "rnn = nn.LSTM(10, 20, 2)\n",
    "input_ = torch.randn(5, 3, 10)\n",
    "output, (hn, cn) = rnn(input_)\n",
    "print(rnn, input_.shape,input_.shape, output.shape, hn.shape, cn.shape)"
   ]
  },
  {
   "cell_type": "code",
   "execution_count": 15,
   "id": "139843cb",
   "metadata": {},
   "outputs": [
    {
     "name": "stdout",
     "output_type": "stream",
     "text": [
      "Linear(in_features=5, out_features=4, bias=True) torch.Size([2, 3, 5]) torch.Size([2, 3, 5]) torch.Size([2, 3, 4])\n"
     ]
    }
   ],
   "source": [
    "import torch\n",
    "from torch import nn\n",
    "rnn = nn.Linear(5,4)\n",
    "input_ = torch.randn(2, 3, 5)\n",
    "output= rnn(input_)\n",
    "print(rnn, input_.shape,input_.shape, output.shape)"
   ]
  },
  {
   "cell_type": "code",
   "execution_count": 17,
   "id": "87370a58",
   "metadata": {
    "scrolled": true
   },
   "outputs": [
    {
     "name": "stdout",
     "output_type": "stream",
     "text": [
      "tensor([[[ 1.,  2.],\n",
      "         [ 3.,  4.]],\n",
      "\n",
      "        [[ 4.,  5.],\n",
      "         [ 6.,  7.]],\n",
      "\n",
      "        [[ 8.,  9.],\n",
      "         [10., 11.]]])\n",
      "tensor([[1.8341, 0.6988],\n",
      "        [4.6709, 2.2823]], grad_fn=<AddmmBackward0>)\n",
      "Parameter containing:\n",
      "tensor([[ 0.4901, -0.4121,  0.3431],\n",
      "        [-0.1950, -0.1172,  0.3060]], requires_grad=True)\n",
      "Parameter containing:\n",
      "tensor([0.2563, 0.4395], requires_grad=True)\n",
      "torch.Size([3, 2, 2]) torch.Size([2, 2])\n",
      "tensor([[[ 1.,  2.],\n",
      "         [ 3.,  4.]],\n",
      "\n",
      "        [[ 4.,  5.],\n",
      "         [ 6.,  7.]],\n",
      "\n",
      "        [[ 8.,  9.],\n",
      "         [10., 11.]]]) tensor([[ 1.,  2.],\n",
      "        [ 3.,  4.],\n",
      "        [ 4.,  5.],\n",
      "        [ 6.,  7.],\n",
      "        [ 8.,  9.],\n",
      "        [10., 11.]])\n",
      "tensor([[[ 1.,  2.],\n",
      "         [ 3.,  4.]],\n",
      "\n",
      "        [[ 4.,  5.],\n",
      "         [ 6.,  7.]],\n",
      "\n",
      "        [[ 8.,  9.],\n",
      "         [10., 11.]]])\n"
     ]
    }
   ],
   "source": [
    "import torch\n",
    "from torch import nn\n",
    "rnn = nn.Linear(3,2)\n",
    "input_ = torch.tensor([[[1,2],[3,4]],[[4,5],[6,7]],[[8,9],[10,11]]], dtype=torch.float32)\n",
    "print(input_)\n",
    "#output = rnn(input_)\n",
    "print(output)\n",
    "for i in rnn.parameters():\n",
    "    print(i)\n",
    "#print(rnn.parameters())\n",
    "print(input_.shape,output.shape)\n",
    "print(input_,input_.reshape(-1,2))\n",
    "print(input_.reshape(3,2,2))\n",
    "print()"
   ]
  }
 ],
 "metadata": {
  "kernelspec": {
   "display_name": "Python 3",
   "language": "python",
   "name": "python3"
  },
  "language_info": {
   "codemirror_mode": {
    "name": "ipython",
    "version": 3
   },
   "file_extension": ".py",
   "mimetype": "text/x-python",
   "name": "python",
   "nbconvert_exporter": "python",
   "pygments_lexer": "ipython3",
   "version": "3.8.8"
  }
 },
 "nbformat": 4,
 "nbformat_minor": 5
}
