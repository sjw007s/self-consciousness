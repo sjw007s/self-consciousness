{
 "cells": [
  {
   "cell_type": "code",
   "execution_count": null,
   "id": "c9ba38f0",
   "metadata": {},
   "outputs": [],
   "source": [
    "import csv\n",
    "r=open ('data/test.csv', 'r' ,encoding='UTF8')\n",
    "rdr=csv.reader(r)\n",
    "for target in rdr:\n",
    "    print(target)\n",
    "    print(\"w\")"
   ]
  },
  {
   "cell_type": "code",
   "execution_count": null,
   "id": "022f0968",
   "metadata": {},
   "outputs": [],
   "source": [
    "import torch\n",
    "from torch import nn\n",
    "rnn = nn.LSTM(10, 20, 2)\n",
    "input_ = torch.randn(5, 3, 10)\n",
    "output, (hn, cn) = rnn(input_)\n",
    "print(rnn, input_.shape,input_.shape, output.shape, hn.shape, cn.shape)"
   ]
  },
  {
   "cell_type": "code",
   "execution_count": null,
   "id": "139843cb",
   "metadata": {},
   "outputs": [],
   "source": [
    "import torch\n",
    "from torch import nn\n",
    "rnn = nn.Linear(5,4)\n",
    "input_ = torch.randn(2, 3, 5)\n",
    "output= rnn(input_)\n",
    "print(rnn, input_.shape,input_.shape, output.shape)"
   ]
  },
  {
   "cell_type": "code",
   "execution_count": null,
   "id": "87370a58",
   "metadata": {
    "scrolled": true
   },
   "outputs": [],
   "source": [
    "import torch\n",
    "from torch import nn\n",
    "rnn = nn.Linear(3,2)\n",
    "input_ = torch.tensor([[[1,2],[3,4]],[[4,5],[6,7]],[[8,9],[10,11]]], dtype=torch.float32)\n",
    "print(input_)\n",
    "#output = rnn(input_)\n",
    "print(output)\n",
    "for i in rnn.parameters():\n",
    "    print(i)\n",
    "#print(rnn.parameters())\n",
    "print(input_.shape,output.shape)\n",
    "print(input_,input_.reshape(-1,2))\n",
    "print(input_.reshape(3,2,2))\n",
    "print()"
   ]
  },
  {
   "cell_type": "code",
   "execution_count": null,
   "id": "b0beb083",
   "metadata": {
    "scrolled": false
   },
   "outputs": [],
   "source": [
    "import torch\n",
    "\n",
    "a = torch.randn(3, 4,3,3)\n",
    "print(a)\n",
    "#torch.sum(a, -1)\n",
    "#tensor([-0.4598, -0.1381,  1.3708, -2.6217])\n",
    "#b = torch.arange(4 * 5 * 6).view(4, 5, 6)\n",
    "#torch.sum(b, (2, 1))\n",
    "#tensor([  435.,  1335.,  2235.,  3135.])\n",
    "#print(a.abs())\n",
    "a=a.reshape((-1,3,3))\n",
    "#print(a)\n",
    "print(a[4,:])\n",
    "print(a[5,:])\n",
    "print(a[6,:])\n",
    "print(a[7,:])\n",
    "a=a.reshape(3,4,3,3)\n",
    "print(a[1,])\n",
    "#print(a)"
   ]
  },
  {
   "cell_type": "code",
   "execution_count": 2,
   "id": "591334dd",
   "metadata": {},
   "outputs": [
    {
     "name": "stdout",
     "output_type": "stream",
     "text": [
      "tensor([1., 1., 1., 1., 1.])\n",
      "False\n",
      "True\n",
      "False\n",
      "True\n",
      "tensor([1., 1., 1., 1., 1.], requires_grad=True)\n"
     ]
    },
    {
     "ename": "RuntimeError",
     "evalue": "a view of a leaf Variable that requires grad is being used in an in-place operation.",
     "output_type": "error",
     "traceback": [
      "\u001b[1;31m---------------------------------------------------------------------------\u001b[0m",
      "\u001b[1;31mRuntimeError\u001b[0m                              Traceback (most recent call last)",
      "\u001b[1;32m<ipython-input-2-610002d085e8>\u001b[0m in \u001b[0;36m<module>\u001b[1;34m\u001b[0m\n\u001b[0;32m     10\u001b[0m \u001b[0mprint\u001b[0m\u001b[1;33m(\u001b[0m\u001b[0my\u001b[0m\u001b[1;33m.\u001b[0m\u001b[0mrequires_grad\u001b[0m\u001b[1;33m)\u001b[0m\u001b[1;33m\u001b[0m\u001b[1;33m\u001b[0m\u001b[0m\n\u001b[0;32m     11\u001b[0m \u001b[0mprint\u001b[0m\u001b[1;33m(\u001b[0m\u001b[0mx\u001b[0m\u001b[1;33m)\u001b[0m\u001b[1;33m\u001b[0m\u001b[1;33m\u001b[0m\u001b[0m\n\u001b[1;32m---> 12\u001b[1;33m \u001b[0my\u001b[0m\u001b[1;33m[\u001b[0m\u001b[1;36m2\u001b[0m\u001b[1;33m]\u001b[0m\u001b[1;33m=\u001b[0m\u001b[1;36m5\u001b[0m\u001b[1;33m\u001b[0m\u001b[1;33m\u001b[0m\u001b[0m\n\u001b[0m\u001b[0;32m     13\u001b[0m \u001b[0mprint\u001b[0m\u001b[1;33m(\u001b[0m\u001b[0my\u001b[0m\u001b[1;33m)\u001b[0m\u001b[1;33m\u001b[0m\u001b[1;33m\u001b[0m\u001b[0m\n\u001b[0;32m     14\u001b[0m \u001b[0mx\u001b[0m\u001b[1;33m[\u001b[0m\u001b[1;36m3\u001b[0m\u001b[1;33m]\u001b[0m\u001b[1;33m=\u001b[0m\u001b[1;36m5\u001b[0m\u001b[1;33m\u001b[0m\u001b[1;33m\u001b[0m\u001b[0m\n",
      "\u001b[1;31mRuntimeError\u001b[0m: a view of a leaf Variable that requires grad is being used in an in-place operation."
     ]
    }
   ],
   "source": [
    "import torch\n",
    "x=torch.ones(5)\n",
    "print(x)\n",
    "print(x.requires_grad)\n",
    "x.requires_grad=True\n",
    "print(x.requires_grad) \n",
    "y = x.detach() \n",
    "print(y.requires_grad) \n",
    "y.requires_grad=True\n",
    "print(y.requires_grad) \n",
    "print(x)\n",
    "y[2]=5\n",
    "print(y)\n",
    "x[3]=5\n",
    "\n"
   ]
  },
  {
   "cell_type": "code",
   "execution_count": 11,
   "id": "ef4ce69f",
   "metadata": {},
   "outputs": [
    {
     "name": "stdout",
     "output_type": "stream",
     "text": [
      "tensor([1.], requires_grad=True)\n",
      "t tensor(1., grad_fn=<MeanBackward0>)\n",
      "tensor([1., 1., 1., 1., 1.], requires_grad=True) tensor(1., grad_fn=<MeanBackward0>)\n",
      "tensor([0.2000, 0.2000, 0.2000, 0.2000, 0.2000]) None\n",
      "t tensor(1., grad_fn=<MeanBackward0>)\n",
      "tensor([1., 1., 1., 1., 1.], requires_grad=True) tensor(1., grad_fn=<MeanBackward0>)\n",
      "tensor([0.4000, 0.4000, 0.4000, 0.4000, 0.4000]) None\n"
     ]
    }
   ],
   "source": [
    "import torch \n",
    "import time\n",
    "a = torch.ones(5)\n",
    "a.requires_grad = True\n",
    "c=torch.ones(1)\n",
    "c.requires_grad = True\n",
    "print(c)\n",
    "optimizer = torch.optim.Adam([a], lr=1e-4)\n",
    "for i in range(2):\n",
    "    #optimizer.zero_grad()\n",
    "    #a = 2*a\n",
    "    #b_1=b.clone()\n",
    "    c = a.mean()\n",
    "    print(\"t\",c)\n",
    "    if i ==0:\n",
    "        #b.retain_grad()\n",
    "        #c.retain_grad()\n",
    "        #b.retain_grad()   # Since b is non-leaf and it's grad will be destroyed otherwise.\n",
    "        pass\n",
    "    #c = b.mean()\n",
    "    #c.retain_grad()\n",
    "    #c.backward()\n",
    "    #time.sleep(5)\n",
    "    c.backward()\n",
    "    print(a,c)\n",
    "    print(a.grad,c.grad)\n",
    "    #a_d=a.detach()\n",
    "    #print(\"e\")\n",
    "    #print(a_d)\n",
    "    #b.retain_grad()\n",
    "    #c.retain_grad()\n",
    "    #c.backward()\n",
    "    #print(a,b,c)\n",
    "    #print(a.grad,b.grad+1,c.grad)\n",
    "    \n",
    "    #print(a.grad, b.grad, c.grad)\n",
    "    #optimizer.step()\n",
    "    #print(a_d.requires_grad,a_c.requires_grad)\n",
    "\n",
    "    #a_ = torch.abs(torch.ones(5)-3)\n",
    "    #print(a_)"
   ]
  },
  {
   "cell_type": "code",
   "execution_count": null,
   "id": "8b64dfdf",
   "metadata": {},
   "outputs": [],
   "source": [
    "import torch\n",
    "from torch import nn\n",
    "from torch.utils.data import DataLoader\n",
    "from torch.utils.data import TensorDataset\n",
    "import matplotlib.pyplot as plt\n",
    "import numpy as np\n",
    "import csv\n",
    "from PIL import Image\n",
    "import time\n",
    "import cv2 as cv\n",
    "\n",
    "\n",
    "class AAN(nn.Module):\n",
    "    def __init__(self):\n",
    "        super(AAN, self).__init__()\n",
    "        self.layer_1 = nn.Linear(3,1)\n",
    "        #self.batch_size = batch_size\n",
    "        \n",
    "        self.relu = nn.ReLU()\n",
    "        \n",
    "        self.glob_flag=0\n",
    "\n",
    "        \n",
    "    def forward(self, x):\n",
    "        #self.output.retain_grad()\n",
    "        self.output = self.layer_1(x)\n",
    "        return self.output\n",
    "input_=torch.ones(3)\n",
    "output_=torch.ones(1)\n",
    "model=AAN()\n",
    "optimizer = torch.optim.Adam(model.parameters(), lr=1e-4)\n",
    "optimizer.zero_grad()\n",
    "\n",
    "loss = nn.MSELoss()\n",
    "pred = model(input_)\n",
    "print(pred)\n",
    "#print(model.forward(input_))\n",
    "model.output.retain_grad()\n",
    "result=loss(pred,output_)\n",
    "result.backward(retain_graph=True)\n",
    "print(model.output.grad)\n",
    "\n",
    "result.backward()\n",
    "print(model.output.grad)"
   ]
  },
  {
   "cell_type": "code",
   "execution_count": 63,
   "id": "7de0a8cc",
   "metadata": {},
   "outputs": [
    {
     "name": "stdout",
     "output_type": "stream",
     "text": [
      "[1, 2]\n",
      "(tensor([[3., 4.],\n",
      "        [5., 6.]], dtype=torch.float64), tensor([10., 11.], dtype=torch.float64))\n",
      "torch.Size([2, 2])\n",
      "[0, 3]\n",
      "(tensor([[1., 2.],\n",
      "        [7., 8.]], dtype=torch.float64), tensor([ 9., 12.], dtype=torch.float64))\n",
      "torch.Size([2, 2])\n"
     ]
    }
   ],
   "source": [
    "import torch\n",
    "from torch import nn\n",
    "from torch.utils.data import DataLoader\n",
    "from torch.utils.data import TensorDataset\n",
    "import matplotlib.pyplot as plt\n",
    "import numpy as np\n",
    "import csv\n",
    "from PIL import Image\n",
    "import time\n",
    "import cv2 as cv\n",
    "list_a = [[1,2],[3,4],[5,6],[7,8]]\n",
    "list_b = [9,10,11,12]\n",
    "list_a = torch.from_numpy(np.array(list_a, dtype=np.float64))\n",
    "list_b = torch.from_numpy(np.array(list_b, dtype=np.float64))\n",
    "\n",
    "dataset = TensorDataset(list_a,list_b)\n",
    "#print(dataset)\n",
    "sampler=torch.utils.data.RandomSampler(dataset)\n",
    "batch_sampler = torch.utils.data.BatchSampler(sampler,2,True)\n",
    "#print(len(dataset))\n",
    "#print(len(sampler))\n",
    "\"\"\"\n",
    "for i in sampler:\n",
    "    print(i)\n",
    "    print(dataset[i])\n",
    "    print(dataset[i][0].shape)\n",
    "\"\"\"\n",
    "\n",
    "for i in batch_sampler:\n",
    "    print(i)\n",
    "    print(dataset[i])\n",
    "    print(dataset[i][0].shape)\n",
    "    \n",
    "dataloader_test = DataLoader(dataset, batch_size=2, shuffle=True)\n",
    "\n",
    "#for i in dataloader_test:\n",
    "#    print(i)\n",
    "    \n",
    "\n"
   ]
  }
 ],
 "metadata": {
  "kernelspec": {
   "display_name": "Python 3",
   "language": "python",
   "name": "python3"
  },
  "language_info": {
   "codemirror_mode": {
    "name": "ipython",
    "version": 3
   },
   "file_extension": ".py",
   "mimetype": "text/x-python",
   "name": "python",
   "nbconvert_exporter": "python",
   "pygments_lexer": "ipython3",
   "version": "3.8.8"
  }
 },
 "nbformat": 4,
 "nbformat_minor": 5
}
